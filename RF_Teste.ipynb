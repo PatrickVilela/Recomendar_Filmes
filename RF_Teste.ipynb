{
  "nbformat": 4,
  "nbformat_minor": 0,
  "metadata": {
    "colab": {
      "provenance": [],
      "authorship_tag": "ABX9TyNEPEGqjB5Lx47Wr7wApzYe",
      "include_colab_link": true
    },
    "kernelspec": {
      "name": "python3",
      "display_name": "Python 3"
    },
    "language_info": {
      "name": "python"
    }
  },
  "cells": [
    {
      "cell_type": "markdown",
      "metadata": {
        "id": "view-in-github",
        "colab_type": "text"
      },
      "source": [
        "<a href=\"https://colab.research.google.com/github/PatrickVilela/Recomendar_Filmes/blob/main/RF_Teste.ipynb\" target=\"_parent\"><img src=\"https://colab.research.google.com/assets/colab-badge.svg\" alt=\"Open In Colab\"/></a>"
      ]
    },
    {
      "cell_type": "code",
      "execution_count": 1,
      "metadata": {
        "colab": {
          "base_uri": "https://localhost:8080/"
        },
        "id": "E3k8ttovUJdB",
        "outputId": "80cb8bbe-1a5e-4056-8287-1fdc082465f0"
      },
      "outputs": [
        {
          "output_type": "stream",
          "name": "stdout",
          "text": [
            "Recomendações para Alice:\n",
            "Inception\n",
            "The Matrix\n",
            "The Shawshank Redemption\n"
          ]
        }
      ],
      "source": [
        "class Movie:\n",
        "    def __init__(self, title, genre):\n",
        "        self.title = title\n",
        "        self.genre = genre\n",
        "\n",
        "class User:\n",
        "    def __init__(self, username):\n",
        "        self.username = username\n",
        "        self.watched_movies = []\n",
        "\n",
        "    def watch_movie(self, movie):\n",
        "        self.watched_movies.append(movie)\n",
        "\n",
        "class MovieRecommender:\n",
        "    def __init__(self):\n",
        "        self.users = []\n",
        "        self.movies = []\n",
        "\n",
        "    def add_user(self, user):\n",
        "        self.users.append(user)\n",
        "\n",
        "    def add_movie(self, movie):\n",
        "        self.movies.append(movie)\n",
        "\n",
        "    def recommend_movies(self, user):\n",
        "        recommended_movies = []\n",
        "        for movie in self.movies:\n",
        "            if movie.genre in [m.genre for m in user.watched_movies]:\n",
        "                recommended_movies.append(movie)\n",
        "        return recommended_movies\n",
        "\n",
        "# Criando alguns filmes\n",
        "movie1 = Movie(\"Inception\", \"Sci-Fi\")\n",
        "movie2 = Movie(\"The Matrix\", \"Sci-Fi\")\n",
        "movie3 = Movie(\"The Shawshank Redemption\", \"Drama\")\n",
        "movie4 = Movie(\"The Godfather\", \"Crime\")\n",
        "\n",
        "# Criando um usuário e adicionando alguns filmes assistidos\n",
        "user1 = User(\"Alice\")\n",
        "user1.watch_movie(movie1)\n",
        "user1.watch_movie(movie3)\n",
        "\n",
        "# Criando o sistema de recomendação\n",
        "recommender = MovieRecommender()\n",
        "\n",
        "# Adicionando o usuário e os filmes ao sistema de recomendação\n",
        "recommender.add_user(user1)\n",
        "recommender.add_movie(movie1)\n",
        "recommender.add_movie(movie2)\n",
        "recommender.add_movie(movie3)\n",
        "recommender.add_movie(movie4)\n",
        "\n",
        "# Obtendo recomendações para o usuário\n",
        "recommendations = recommender.recommend_movies(user1)\n",
        "\n",
        "# Imprimindo as recomendações\n",
        "print(f\"Recomendações para {user1.username}:\")\n",
        "for movie in recommendations:\n",
        "    print(movie.title)\n"
      ]
    },
    {
      "cell_type": "code",
      "source": [],
      "metadata": {
        "id": "CGDy2-YvUKFK"
      },
      "execution_count": null,
      "outputs": []
    }
  ]
}